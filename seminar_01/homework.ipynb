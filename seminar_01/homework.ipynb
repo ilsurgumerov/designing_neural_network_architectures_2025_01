{
 "cells": [
  {
   "cell_type": "markdown",
   "id": "cd05f3e5",
   "metadata": {},
   "source": [
    "# 4 задание"
   ]
  },
  {
   "cell_type": "markdown",
   "id": "1e66ac96",
   "metadata": {},
   "source": [
    "#### Вариант 4. Сравнение GAP и Flatten\n",
    "\n",
    "**Цель:** Понимание различий между Flatten и Global Average Pooling.\n",
    "\n",
    "- Спроектируйте сеть с 3 свёрточными слоями, после которых выходной тензор `(batch, 128, 8, 8)`.\n",
    "- **Условие:** Реализуйте два варианта классификации:\n",
    "  1. `Flatten → Linear`\n",
    "  2. `Global Average Pooling → Linear`\n",
    "- **Эксперимент:** Обучите оба варианта на данных и сравните дисперсию выходных активаций перед финальным слоем."
   ]
  },
  {
   "cell_type": "code",
   "execution_count": 4,
   "id": "07a17717",
   "metadata": {},
   "outputs": [],
   "source": [
    "import torch\n",
    "import torch.nn as nn\n",
    "import torch.optim as optim\n",
    "import torch.nn.functional as F\n",
    "from torchvision import datasets, transforms\n",
    "from torch.utils.data import DataLoader\n",
    "from torch.optim import Adam\n",
    "from tqdm import tqdm\n",
    "from matplotlib import pyplot as plt"
   ]
  },
  {
   "cell_type": "code",
   "execution_count": 42,
   "id": "a6bece44",
   "metadata": {},
   "outputs": [],
   "source": [
    "\n",
    "class ConvNetFlatten(nn.Module):\n",
    "    def __init__(self):\n",
    "        super().__init__()\n",
    "        self.conv1 = nn.Conv2d(3, 32, 3, padding=1)\n",
    "        self.pool = nn.MaxPool2d(2, 2) \n",
    "        self.conv2 = nn.Conv2d(32, 64, 3, padding=1) \n",
    "        self.conv3 = nn.Conv2d(64, 128, 3, padding=1) \n",
    "        self.fc = nn.Linear(128*8*8, 10)\n",
    "        self.relu = nn.ReLU()\n",
    "\n",
    "    def forward(self, x):\n",
    "        x = self.relu(self.conv1(x))  # (3, 32, 32)   -> (32, 32, 32)\n",
    "        x = self.pool(x)              # (32, 32, 32)  -> (32, 16,16)\n",
    "        x = self.relu(self.conv2(x))  # (32, 16, 16)  -> (64, 16, 16)\n",
    "        x = self.pool(x)              # (64, 16, 16)  -> (64, 8, 8)\n",
    "        x = self.relu(self.conv3(x))  # (64, 8, 8)    -> (128, 8, 8)\n",
    "        x = x.view(x.size(0), -1)     # flatten (batch, 128 * 8 * 8)\n",
    "        pre_fc = x                    # save pred linear law state\n",
    "        x = self.fc(pre_fc)\n",
    "        return x, pre_fc\n",
    "\n",
    "\n",
    "class ConvNetGAP(nn.Module):\n",
    "    def __init__(self):\n",
    "        super().__init__()\n",
    "        self.conv1 = nn.Conv2d(3, 32, 3, padding=1)\n",
    "        self.pool = nn.MaxPool2d(2, 2)\n",
    "        self.conv2 = nn.Conv2d(32, 64, 3, padding=1)\n",
    "        self.conv3 = nn.Conv2d(64, 128, 3, padding=1)\n",
    "        self.gap = nn.AdaptiveAvgPool2d((1,1))  # GAP\n",
    "        self.fc = nn.Linear(128, 10)\n",
    "        self.relu = nn.ReLU()\n",
    "\n",
    "    def forward(self, x):\n",
    "        x = self.relu(self.conv1(x))  # (3, 32, 32)   -> (32, 32, 32)\n",
    "        x = self.pool(x)              # (32, 32, 32)  -> (32, 16,16)\n",
    "        x = self.relu(self.conv2(x))  # (32, 16, 16)  -> (64, 16, 16)\n",
    "        x = self.pool(x)              # (64, 16, 16)  -> (64, 8, 8)\n",
    "        x = self.relu(self.conv3(x))  # (64, 8, 8)    -> (128, 8, 8)\n",
    "        x = self.gap(x)               # (batch, 128, 1, 1)\n",
    "        x = x.view(x.size(0), -1)     # serilixation GAP (barch, 128 * 1 * 1)\n",
    "        pre_fc = x\n",
    "        x = self.fc(pre_fc)\n",
    "        return x, pre_fc\n",
    "\n"
   ]
  },
  {
   "cell_type": "code",
   "execution_count": null,
   "id": "9fe96ca4",
   "metadata": {},
   "outputs": [
    {
     "name": "stderr",
     "output_type": "stream",
     "text": [
      "100%|██████████| 782/782 [00:16<00:00, 46.87it/s]\n",
      "100%|██████████| 782/782 [00:16<00:00, 47.37it/s]\n"
     ]
    },
    {
     "name": "stdout",
     "output_type": "stream",
     "text": [
      "Epoch 1/5 - Flatten Loss: 1.4785 | GAP Loss: 1.8174\n"
     ]
    },
    {
     "name": "stderr",
     "output_type": "stream",
     "text": [
      "100%|██████████| 782/782 [00:17<00:00, 45.56it/s]\n",
      "100%|██████████| 782/782 [00:16<00:00, 48.07it/s]\n"
     ]
    },
    {
     "name": "stdout",
     "output_type": "stream",
     "text": [
      "Epoch 2/5 - Flatten Loss: 1.0869 | GAP Loss: 1.5115\n"
     ]
    },
    {
     "name": "stderr",
     "output_type": "stream",
     "text": [
      "100%|██████████| 782/782 [00:16<00:00, 46.46it/s]\n",
      "100%|██████████| 782/782 [00:16<00:00, 47.33it/s]\n"
     ]
    },
    {
     "name": "stdout",
     "output_type": "stream",
     "text": [
      "Epoch 3/5 - Flatten Loss: 0.9232 | GAP Loss: 1.3889\n"
     ]
    },
    {
     "name": "stderr",
     "output_type": "stream",
     "text": [
      "100%|██████████| 782/782 [00:16<00:00, 46.91it/s]\n",
      "100%|██████████| 782/782 [00:16<00:00, 46.24it/s]\n"
     ]
    },
    {
     "name": "stdout",
     "output_type": "stream",
     "text": [
      "Epoch 4/5 - Flatten Loss: 0.8215 | GAP Loss: 1.2999\n"
     ]
    },
    {
     "name": "stderr",
     "output_type": "stream",
     "text": [
      "100%|██████████| 782/782 [00:14<00:00, 52.52it/s]\n",
      "100%|██████████| 782/782 [00:15<00:00, 51.14it/s]"
     ]
    },
    {
     "name": "stdout",
     "output_type": "stream",
     "text": [
      "Epoch 5/5 - Flatten Loss: 0.7429 | GAP Loss: 1.2231\n",
      "Flatten pre_fc variance: 0.01866108924150467\n",
      "GAP pre_fc variance: 0.2688738703727722\n"
     ]
    },
    {
     "name": "stderr",
     "output_type": "stream",
     "text": [
      "\n"
     ]
    }
   ],
   "source": [
    "transform = transforms.Compose([transforms.ToTensor()])\n",
    "train_dataset = datasets.CIFAR10('./data', train=True, download=True, transform=transform)\n",
    "test_dataset = datasets.CIFAR10('./data', train=False, download=True, transform=transform)\n",
    "\n",
    "train_loader = DataLoader(train_dataset, batch_size=64, shuffle=True)\n",
    "test_loader = DataLoader(test_dataset, batch_size=64, shuffle=False)\n",
    "\n",
    "device = torch.device(\"cuda\" if torch.cuda.is_available() else \"cpu\")\n",
    "\n",
    "model_flatten = ConvNetFlatten().to(device)\n",
    "model_gap = ConvNetGAP().to(device)\n",
    "\n",
    "criterion = nn.CrossEntropyLoss()\n",
    "optimizer_flat = Adam(model_flatten.parameters(), lr=0.001)\n",
    "optimizer_gap = Adam(model_gap.parameters(), lr=0.001)\n",
    "\n",
    "epochs = 5\n",
    "\n",
    "# train one epoch\n",
    "def train_one_epoch(model, optimizer, loader):\n",
    "    model.train()\n",
    "    running_loss = 0.0\n",
    "    for images, labels in tqdm(loader):\n",
    "        images, labels = images.to(device), labels.to(device)\n",
    "        optimizer.zero_grad()\n",
    "        outputs, _ = model(images)\n",
    "        loss = criterion(outputs, labels)\n",
    "        loss.backward()\n",
    "        optimizer.step()\n",
    "        running_loss += loss.item()\n",
    "    return running_loss / len(loader)\n",
    "\n",
    "# var in input model on pre_fc\n",
    "def evaluate_variance(model, loader):\n",
    "    model.eval()\n",
    "    with torch.no_grad():\n",
    "        for images, labels in loader:\n",
    "            images = images.to(device)\n",
    "            _, pre_fc = model(images)\n",
    "            var = pre_fc.var(dim=0).mean().item()\n",
    "            return var\n",
    "\n",
    "for epoch in range(epochs):\n",
    "    loss_flat = train_one_epoch(model_flatten, optimizer_flat, train_loader)\n",
    "    loss_gap = train_one_epoch(model_gap, optimizer_gap, train_loader)\n",
    "    print(f\"Epoch {epoch+1}/{epochs} - Flatten Loss: {loss_flat:.4f} | GAP Loss: {loss_gap:.4f}\")\n",
    "\n",
    "var_flat = evaluate_variance(model_flatten, test_loader)\n",
    "var_gap = evaluate_variance(model_gap, test_loader)\n",
    "\n",
    "print(f\"Flatten pre_fc variance: {var_flat}\")\n",
    "print(f\"GAP pre_fc variance: {var_gap}\")\n"
   ]
  },
  {
   "cell_type": "markdown",
   "id": "0d6bb6af",
   "metadata": {},
   "source": [
    "Flatten показывает более высокую точность начиная с первой эпохи. \n",
    "\n",
    "При Flatten много нейронов (8192), но но у них малая дисперсия. Это может быть связано с тем, что из-за большого количества признаков они сглаживаются, и сеть в итоге более сбалансированная, но менее контрастная.\n",
    "\n",
    "При GAP меньше нейровнов (128), но каждый из них значительно активнее, то есть сеть фокусируется на более сильных объектах, GAP усредняет все пространственные детали."
   ]
  },
  {
   "cell_type": "code",
   "execution_count": 45,
   "id": "cf317ebc",
   "metadata": {},
   "outputs": [
    {
     "name": "stdout",
     "output_type": "stream",
     "text": [
      "Accuracy: 70.63%\n"
     ]
    }
   ],
   "source": [
    "model_flatten.eval()\n",
    "with torch.no_grad():\n",
    "    correct = 0\n",
    "    total = 0\n",
    "    for images, labels in test_loader:\n",
    "        outputs, _ = model_flatten(images)\n",
    "        _, predicted = torch.max(outputs.data, 1)\n",
    "        total += labels.size(0)\n",
    "        correct += (predicted == labels).sum().item()\n",
    "\n",
    "    print(f'Accuracy: {100 * correct / total}%')"
   ]
  },
  {
   "cell_type": "code",
   "execution_count": 46,
   "id": "38e129b9",
   "metadata": {},
   "outputs": [
    {
     "name": "stdout",
     "output_type": "stream",
     "text": [
      "Accuracy: 55.73%\n"
     ]
    }
   ],
   "source": [
    "model_gap.eval()\n",
    "with torch.no_grad():\n",
    "    correct = 0\n",
    "    total = 0\n",
    "    for images, labels in test_loader:\n",
    "        outputs, _ = model_gap(images)\n",
    "        _, predicted = torch.max(outputs.data, 1)\n",
    "        total += labels.size(0)\n",
    "        correct += (predicted == labels).sum().item()\n",
    "\n",
    "    print(f'Accuracy: {100 * correct / total}%')"
   ]
  },
  {
   "cell_type": "markdown",
   "id": "3d5136f8",
   "metadata": {},
   "source": [
    "Точность также у flatten выше, так как он использует полную информацию, без усреднения"
   ]
  },
  {
   "cell_type": "markdown",
   "id": "29b632e4",
   "metadata": {},
   "source": [
    "# 5 задание"
   ]
  },
  {
   "cell_type": "markdown",
   "id": "c53205bd",
   "metadata": {},
   "source": [
    "#### Вариант 5. Контроль градиентов через глубину\n",
    "\n",
    "**Цель:** Изучение поведения градиентов в глубокой сети.\n",
    "\n",
    "- Разработайте сеть с **не менее 6 слоев**, которая выводит тензор `(batch, 64, 8, 8)`.\n",
    "- **Условие:** Слои должны чередоваться между `Conv2d` и `ReLU`, при этом **градиенты первого слоя должны быть меньше градиентов последнего** после одной итерации `backward()` на случайных данных.\n",
    "- **Эксперимент:** Визуализируйте градиенты по слоям и объясните, почему градиенты убывают или растут.\n"
   ]
  },
  {
   "cell_type": "code",
   "execution_count": 5,
   "id": "de00c56c",
   "metadata": {},
   "outputs": [],
   "source": [
    "class DeepConvNet(nn.Module):\n",
    "    def __init__(self):\n",
    "        super().__init__()\n",
    "        self.conv1 = nn.Conv2d(3, 32, kernel_size=3, padding=1)   # (batch, 3, 32, 32) -> (batch, 32, 32, 32)\n",
    "        self.relu = nn.ReLU()\n",
    "        self.pool = nn.MaxPool2d(2, 2)\n",
    "        \n",
    "        self.conv2 = nn.Conv2d(32, 32, 3, padding=1)             # (batch, 32, 16, 16) -> (batch, 32, 16, 16)\n",
    "        self.conv3 = nn.Conv2d(32, 48, 3, padding=1)             # (batch, 32, 16, 16) -> (batch, 48, 16, 16)\n",
    "        self.pool2 = nn.MaxPool2d(2, 2)                           # (batch, 48, 16, 16) -> (batch, 48, 8, 8)\n",
    "        \n",
    "        self.conv4 = nn.Conv2d(48, 48, 3, padding=1)             # (batch, 48, 8, 8)  -> (batch, 48, 8, 8)\n",
    "        self.conv5 = nn.Conv2d(48, 64, 3, padding=1)             # (batch, 48, 8, 8)  -> (batch, 64, 8, 8)\n",
    "        self.conv6 = nn.Conv2d(64, 64, 3, padding=1)             # (batch, 64, 8, 8)  -> (batch, 64, 8, 8)\n",
    "    \n",
    "    def forward(self, x):\n",
    "        x = self.conv1(x)       # (batch, 3, 32, 32) -> (batch, 32, 32, 32)\n",
    "        x = self.relu(x)\n",
    "        x = self.pool(x)        # (batch, 32, 32, 32) -> (batch, 32, 16, 16)\n",
    "        \n",
    "        x = self.conv2(x)       # (batch, 32, 16, 16)\n",
    "        x = self.relu(x)\n",
    "        x = self.conv3(x)       # (batch, 48, 16, 16)\n",
    "        x = self.relu(x)\n",
    "        x = self.pool2(x)       # (batch, 48, 16, 16) -> (batch, 48, 8, 8)\n",
    "        \n",
    "        x = self.conv4(x)       # (batch, 48, 8, 8)\n",
    "        x = self.relu(x)\n",
    "        x = self.conv5(x)       # (batch, 64, 8, 8)\n",
    "        x = self.relu(x)\n",
    "        x = self.conv6(x)       # (batch, 64, 8, 8)\n",
    "        x = self.relu(x)\n",
    "        \n",
    "        return x"
   ]
  },
  {
   "cell_type": "code",
   "execution_count": 6,
   "id": "577f340c",
   "metadata": {},
   "outputs": [
    {
     "name": "stdout",
     "output_type": "stream",
     "text": [
      "Layer: conv1.weight, Gradient Norm: 0.001816\n",
      "Layer: conv2.weight, Gradient Norm: 0.007108\n",
      "Layer: conv3.weight, Gradient Norm: 0.006731\n",
      "Layer: conv4.weight, Gradient Norm: 0.009717\n",
      "Layer: conv5.weight, Gradient Norm: 0.012017\n",
      "Layer: conv6.weight, Gradient Norm: 0.015117\n"
     ]
    },
    {
     "data": {
      "image/png": "[encoded data removed]",
      "text/plain": [
       "<Figure size 800x500 with 1 Axes>"
      ]
     },
     "metadata": {},
     "output_type": "display_data"
    }
   ],
   "source": [
    "device = 'cuda' if torch.cuda.is_available() else 'cpu'\n",
    "model = DeepConvNet().to(device)\n",
    "\n",
    "# Random batch for test (batch=16, 3, 32, 32)\n",
    "x = torch.randn(16, 3, 32, 32).to(device)\n",
    "\n",
    "# Source target: (batch, 8, 8)\n",
    "target = torch.randint(0, 64, (16, 8, 8)).to(device)\n",
    "\n",
    "criterion = nn.CrossEntropyLoss()\n",
    "output = model(x)  # output (16, 64, 8, 8)\n",
    "\n",
    "output_flat = output.permute(0, 2, 3, 1).reshape(-1, 64)  # (batch*8*8, 64)\n",
    "target_flat = target.reshape(-1)                          # (batch*8*8)\n",
    "\n",
    "loss = criterion(output_flat, target_flat)\n",
    "\n",
    "model.zero_grad()\n",
    "\n",
    "# will calculate gradients for all weights\n",
    "loss.backward()\n",
    "\n",
    "# Save grad norm in Conv\n",
    "grad_norms = []\n",
    "for name, param in model.named_parameters():\n",
    "    if 'weight' in name and param.grad is not None:\n",
    "        grad_norm = param.grad.norm().item()\n",
    "        grad_norms.append((name, grad_norm))\n",
    "        print(f'Layer: {name}, Gradient Norm: {grad_norm:.6f}')\n",
    "\n",
    "plt.figure(figsize=(8,5))\n",
    "plt.plot(range(1, len(grad_norms)+1), [g[1] for g in grad_norms], marker='o')\n",
    "plt.xticks(range(1, len(grad_norms)+1), [g[0] for g in grad_norms], rotation=45, ha='right')\n",
    "plt.xlabel('Conv layers (weight parameters)')\n",
    "plt.ylabel('Gradient Norm')\n",
    "plt.title('Gradient norms per layer after one backward pass')\n",
    "plt.grid(True)\n",
    "plt.tight_layout()\n",
    "plt.show()"
   ]
  },
  {
   "cell_type": "markdown",
   "id": "ee6da2e0",
   "metadata": {},
   "source": [
    "После одного шага обратного распространения ошибки были измерены нормы градиентов весов каждого сверточного слоя. Результаты показали, что градиенты первых слоев меньше, чем последних. Это отражает эффект затухания градиентов - обратное распространение ошибок уменьшается при передаче через глубокие слои сети.\n",
    "\n",
    "Наверное, причинами являются:\n",
    "\n",
    "- многократное применение производных при обратном проходе (цепное правило),\n",
    "- нелинейность ReLU, которая обнуляет часть активаций,\n",
    "- отсутствие нормализации или пропускных связей.\n",
    "\n",
    "На графике видно монотонное увеличение нормы градиента по мере приближения к выходу сети."
   ]
  }
 ],
 "metadata": {
  "kernelspec": {
   "display_name": "neural_networks",
   "language": "python",
   "name": "python3"
  },
  "language_info": {
   "codemirror_mode": {
    "name": "ipython",
    "version": 3
   },
   "file_extension": ".py",
   "mimetype": "text/x-python",
   "name": "python",
   "nbconvert_exporter": "python",
   "pygments_lexer": "ipython3",
   "version": "3.13.7"
  }
 },
 "nbformat": 4,
 "nbformat_minor": 5
}
